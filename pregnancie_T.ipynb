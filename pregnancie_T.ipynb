{
  "cells": [
    {
      "cell_type": "markdown",
      "metadata": {
        "id": "view-in-github",
        "colab_type": "text"
      },
      "source": [
        "<a href=\"https://colab.research.google.com/github/trq11137/new-ML/blob/main/pregnancie_T.ipynb\" target=\"_parent\"><img src=\"https://colab.research.google.com/assets/colab-badge.svg\" alt=\"Open In Colab\"/></a>"
      ]
    },
    {
      "cell_type": "code",
      "execution_count": 334,
      "metadata": {
        "colab": {
          "base_uri": "https://localhost:8080/"
        },
        "id": "YWbSIAs-WI6Y",
        "outputId": "1bdb9191-a9c2-46e3-bc37-ca78a21882f8"
      },
      "outputs": [
        {
          "output_type": "stream",
          "name": "stdout",
          "text": [
            "Looking in indexes: https://pypi.org/simple, https://us-python.pkg.dev/colab-wheels/public/simple/\n",
            "Requirement already satisfied: featurewiz in /usr/local/lib/python3.7/dist-packages (0.1.996)\n",
            "Requirement already satisfied: fsspec>=0.3.3 in /usr/local/lib/python3.7/dist-packages (from featurewiz) (2022.8.2)\n",
            "Requirement already satisfied: networkx>=2.6.2 in /usr/local/lib/python3.7/dist-packages (from featurewiz) (2.6.3)\n",
            "Requirement already satisfied: imbalanced-learn>=0.7 in /usr/local/lib/python3.7/dist-packages (from featurewiz) (0.8.1)\n",
            "Requirement already satisfied: category-encoders>=2.4.0 in /usr/local/lib/python3.7/dist-packages (from featurewiz) (2.5.0)\n",
            "Requirement already satisfied: seaborn in /usr/local/lib/python3.7/dist-packages (from featurewiz) (0.11.2)\n",
            "Requirement already satisfied: tqdm>=4.62.0 in /usr/local/lib/python3.7/dist-packages (from featurewiz) (4.64.1)\n",
            "Requirement already satisfied: feather-format>=0.4.1 in /usr/local/lib/python3.7/dist-packages (from featurewiz) (0.4.1)\n",
            "Requirement already satisfied: Pillow>=9.0.0 in /usr/local/lib/python3.7/dist-packages (from featurewiz) (9.2.0)\n",
            "Requirement already satisfied: scikit-learn>=0.24 in /usr/local/lib/python3.7/dist-packages (from featurewiz) (1.0.2)\n",
            "Requirement already satisfied: pyarrow~=7.0.0 in /usr/local/lib/python3.7/dist-packages (from featurewiz) (7.0.0)\n",
            "Requirement already satisfied: dask>=2021.11.0 in /usr/local/lib/python3.7/dist-packages (from featurewiz) (2022.2.0)\n",
            "Requirement already satisfied: xlrd>=2.0.0 in /usr/local/lib/python3.7/dist-packages (from featurewiz) (2.0.1)\n",
            "Requirement already satisfied: pandas>=1.3.4 in /usr/local/lib/python3.7/dist-packages (from featurewiz) (1.3.5)\n",
            "Requirement already satisfied: matplotlib in /usr/local/lib/python3.7/dist-packages (from featurewiz) (3.2.2)\n",
            "Requirement already satisfied: xgboost>=1.5.1 in /usr/local/lib/python3.7/dist-packages (from featurewiz) (1.6.2)\n",
            "Requirement already satisfied: jupyter in /usr/local/lib/python3.7/dist-packages (from featurewiz) (1.0.0)\n",
            "Requirement already satisfied: lightgbm>=3.2.1 in /usr/local/lib/python3.7/dist-packages (from featurewiz) (3.3.2)\n",
            "Requirement already satisfied: distributed>=2021.11.0 in /usr/local/lib/python3.7/dist-packages (from featurewiz) (2022.2.0)\n",
            "Requirement already satisfied: ipython in /usr/local/lib/python3.7/dist-packages (from featurewiz) (7.9.0)\n",
            "Requirement already satisfied: numpy>=1.14.0 in /usr/local/lib/python3.7/dist-packages (from category-encoders>=2.4.0->featurewiz) (1.21.6)\n",
            "Requirement already satisfied: statsmodels>=0.9.0 in /usr/local/lib/python3.7/dist-packages (from category-encoders>=2.4.0->featurewiz) (0.12.2)\n",
            "Requirement already satisfied: scipy>=1.0.0 in /usr/local/lib/python3.7/dist-packages (from category-encoders>=2.4.0->featurewiz) (1.7.3)\n",
            "Requirement already satisfied: patsy>=0.5.1 in /usr/local/lib/python3.7/dist-packages (from category-encoders>=2.4.0->featurewiz) (0.5.2)\n",
            "Requirement already satisfied: pyyaml>=5.3.1 in /usr/local/lib/python3.7/dist-packages (from dask>=2021.11.0->featurewiz) (6.0)\n",
            "Requirement already satisfied: packaging>=20.0 in /usr/local/lib/python3.7/dist-packages (from dask>=2021.11.0->featurewiz) (21.3)\n",
            "Requirement already satisfied: partd>=0.3.10 in /usr/local/lib/python3.7/dist-packages (from dask>=2021.11.0->featurewiz) (1.3.0)\n",
            "Requirement already satisfied: cloudpickle>=1.1.1 in /usr/local/lib/python3.7/dist-packages (from dask>=2021.11.0->featurewiz) (1.5.0)\n",
            "Requirement already satisfied: toolz>=0.8.2 in /usr/local/lib/python3.7/dist-packages (from dask>=2021.11.0->featurewiz) (0.12.0)\n",
            "Requirement already satisfied: setuptools in /usr/local/lib/python3.7/dist-packages (from distributed>=2021.11.0->featurewiz) (57.4.0)\n",
            "Requirement already satisfied: zict>=0.1.3 in /usr/local/lib/python3.7/dist-packages (from distributed>=2021.11.0->featurewiz) (2.2.0)\n",
            "Requirement already satisfied: jinja2 in /usr/local/lib/python3.7/dist-packages (from distributed>=2021.11.0->featurewiz) (2.11.3)\n",
            "Requirement already satisfied: psutil>=5.0 in /usr/local/lib/python3.7/dist-packages (from distributed>=2021.11.0->featurewiz) (5.4.8)\n",
            "Requirement already satisfied: tblib>=1.6.0 in /usr/local/lib/python3.7/dist-packages (from distributed>=2021.11.0->featurewiz) (1.7.0)\n",
            "Requirement already satisfied: click>=6.6 in /usr/local/lib/python3.7/dist-packages (from distributed>=2021.11.0->featurewiz) (7.1.2)\n",
            "Requirement already satisfied: tornado>=5 in /usr/local/lib/python3.7/dist-packages (from distributed>=2021.11.0->featurewiz) (5.1.1)\n",
            "Requirement already satisfied: sortedcontainers!=2.0.0,!=2.0.1 in /usr/local/lib/python3.7/dist-packages (from distributed>=2021.11.0->featurewiz) (2.4.0)\n",
            "Requirement already satisfied: msgpack>=0.6.0 in /usr/local/lib/python3.7/dist-packages (from distributed>=2021.11.0->featurewiz) (1.0.4)\n",
            "Requirement already satisfied: joblib>=0.11 in /usr/local/lib/python3.7/dist-packages (from imbalanced-learn>=0.7->featurewiz) (1.1.0)\n",
            "Requirement already satisfied: wheel in /usr/local/lib/python3.7/dist-packages (from lightgbm>=3.2.1->featurewiz) (0.37.1)\n",
            "Requirement already satisfied: pyparsing!=3.0.5,>=2.0.2 in /usr/local/lib/python3.7/dist-packages (from packaging>=20.0->dask>=2021.11.0->featurewiz) (3.0.9)\n",
            "Requirement already satisfied: pytz>=2017.3 in /usr/local/lib/python3.7/dist-packages (from pandas>=1.3.4->featurewiz) (2022.2.1)\n",
            "Requirement already satisfied: python-dateutil>=2.7.3 in /usr/local/lib/python3.7/dist-packages (from pandas>=1.3.4->featurewiz) (2.8.2)\n",
            "Requirement already satisfied: locket in /usr/local/lib/python3.7/dist-packages (from partd>=0.3.10->dask>=2021.11.0->featurewiz) (1.0.0)\n",
            "Requirement already satisfied: six in /usr/local/lib/python3.7/dist-packages (from patsy>=0.5.1->category-encoders>=2.4.0->featurewiz) (1.15.0)\n",
            "Requirement already satisfied: threadpoolctl>=2.0.0 in /usr/local/lib/python3.7/dist-packages (from scikit-learn>=0.24->featurewiz) (3.1.0)\n",
            "Requirement already satisfied: heapdict in /usr/local/lib/python3.7/dist-packages (from zict>=0.1.3->distributed>=2021.11.0->featurewiz) (1.0.1)\n",
            "Requirement already satisfied: pexpect in /usr/local/lib/python3.7/dist-packages (from ipython->featurewiz) (4.8.0)\n",
            "Requirement already satisfied: decorator in /usr/local/lib/python3.7/dist-packages (from ipython->featurewiz) (4.4.2)\n",
            "Requirement already satisfied: pygments in /usr/local/lib/python3.7/dist-packages (from ipython->featurewiz) (2.6.1)\n",
            "Requirement already satisfied: traitlets>=4.2 in /usr/local/lib/python3.7/dist-packages (from ipython->featurewiz) (5.1.1)\n",
            "Requirement already satisfied: jedi>=0.10 in /usr/local/lib/python3.7/dist-packages (from ipython->featurewiz) (0.18.1)\n",
            "Requirement already satisfied: backcall in /usr/local/lib/python3.7/dist-packages (from ipython->featurewiz) (0.2.0)\n",
            "Requirement already satisfied: prompt-toolkit<2.1.0,>=2.0.0 in /usr/local/lib/python3.7/dist-packages (from ipython->featurewiz) (2.0.10)\n",
            "Requirement already satisfied: pickleshare in /usr/local/lib/python3.7/dist-packages (from ipython->featurewiz) (0.7.5)\n",
            "Requirement already satisfied: parso<0.9.0,>=0.8.0 in /usr/local/lib/python3.7/dist-packages (from jedi>=0.10->ipython->featurewiz) (0.8.3)\n",
            "Requirement already satisfied: wcwidth in /usr/local/lib/python3.7/dist-packages (from prompt-toolkit<2.1.0,>=2.0.0->ipython->featurewiz) (0.2.5)\n",
            "Requirement already satisfied: MarkupSafe>=0.23 in /usr/local/lib/python3.7/dist-packages (from jinja2->distributed>=2021.11.0->featurewiz) (2.0.1)\n",
            "Requirement already satisfied: ipywidgets in /usr/local/lib/python3.7/dist-packages (from jupyter->featurewiz) (7.7.1)\n",
            "Requirement already satisfied: notebook in /usr/local/lib/python3.7/dist-packages (from jupyter->featurewiz) (5.3.1)\n",
            "Requirement already satisfied: qtconsole in /usr/local/lib/python3.7/dist-packages (from jupyter->featurewiz) (5.3.2)\n",
            "Requirement already satisfied: jupyter-console in /usr/local/lib/python3.7/dist-packages (from jupyter->featurewiz) (6.1.0)\n",
            "Requirement already satisfied: ipykernel in /usr/local/lib/python3.7/dist-packages (from jupyter->featurewiz) (5.3.4)\n",
            "Requirement already satisfied: nbconvert in /usr/local/lib/python3.7/dist-packages (from jupyter->featurewiz) (5.6.1)\n",
            "Requirement already satisfied: jupyter-client in /usr/local/lib/python3.7/dist-packages (from ipykernel->jupyter->featurewiz) (6.1.12)\n",
            "Requirement already satisfied: ipython-genutils~=0.2.0 in /usr/local/lib/python3.7/dist-packages (from ipywidgets->jupyter->featurewiz) (0.2.0)\n",
            "Requirement already satisfied: jupyterlab-widgets>=1.0.0 in /usr/local/lib/python3.7/dist-packages (from ipywidgets->jupyter->featurewiz) (3.0.3)\n",
            "Requirement already satisfied: widgetsnbextension~=3.6.0 in /usr/local/lib/python3.7/dist-packages (from ipywidgets->jupyter->featurewiz) (3.6.1)\n",
            "Requirement already satisfied: jupyter-core>=4.4.0 in /usr/local/lib/python3.7/dist-packages (from notebook->jupyter->featurewiz) (4.11.1)\n",
            "Requirement already satisfied: nbformat in /usr/local/lib/python3.7/dist-packages (from notebook->jupyter->featurewiz) (5.4.0)\n",
            "Requirement already satisfied: terminado>=0.8.1 in /usr/local/lib/python3.7/dist-packages (from notebook->jupyter->featurewiz) (0.13.3)\n",
            "Requirement already satisfied: Send2Trash in /usr/local/lib/python3.7/dist-packages (from notebook->jupyter->featurewiz) (1.8.0)\n",
            "Requirement already satisfied: pyzmq>=13 in /usr/local/lib/python3.7/dist-packages (from jupyter-client->ipykernel->jupyter->featurewiz) (23.2.1)\n",
            "Requirement already satisfied: ptyprocess in /usr/local/lib/python3.7/dist-packages (from terminado>=0.8.1->notebook->jupyter->featurewiz) (0.7.0)\n",
            "Requirement already satisfied: kiwisolver>=1.0.1 in /usr/local/lib/python3.7/dist-packages (from matplotlib->featurewiz) (1.4.4)\n",
            "Requirement already satisfied: cycler>=0.10 in /usr/local/lib/python3.7/dist-packages (from matplotlib->featurewiz) (0.11.0)\n",
            "Requirement already satisfied: typing-extensions in /usr/local/lib/python3.7/dist-packages (from kiwisolver>=1.0.1->matplotlib->featurewiz) (4.1.1)\n",
            "Requirement already satisfied: testpath in /usr/local/lib/python3.7/dist-packages (from nbconvert->jupyter->featurewiz) (0.6.0)\n",
            "Requirement already satisfied: bleach in /usr/local/lib/python3.7/dist-packages (from nbconvert->jupyter->featurewiz) (5.0.1)\n",
            "Requirement already satisfied: defusedxml in /usr/local/lib/python3.7/dist-packages (from nbconvert->jupyter->featurewiz) (0.7.1)\n",
            "Requirement already satisfied: mistune<2,>=0.8.1 in /usr/local/lib/python3.7/dist-packages (from nbconvert->jupyter->featurewiz) (0.8.4)\n",
            "Requirement already satisfied: pandocfilters>=1.4.1 in /usr/local/lib/python3.7/dist-packages (from nbconvert->jupyter->featurewiz) (1.5.0)\n",
            "Requirement already satisfied: entrypoints>=0.2.2 in /usr/local/lib/python3.7/dist-packages (from nbconvert->jupyter->featurewiz) (0.4)\n",
            "Requirement already satisfied: fastjsonschema in /usr/local/lib/python3.7/dist-packages (from nbformat->notebook->jupyter->featurewiz) (2.16.1)\n",
            "Requirement already satisfied: jsonschema>=2.6 in /usr/local/lib/python3.7/dist-packages (from nbformat->notebook->jupyter->featurewiz) (4.3.3)\n",
            "Requirement already satisfied: importlib-metadata in /usr/local/lib/python3.7/dist-packages (from jsonschema>=2.6->nbformat->notebook->jupyter->featurewiz) (4.12.0)\n",
            "Requirement already satisfied: importlib-resources>=1.4.0 in /usr/local/lib/python3.7/dist-packages (from jsonschema>=2.6->nbformat->notebook->jupyter->featurewiz) (5.9.0)\n",
            "Requirement already satisfied: pyrsistent!=0.17.0,!=0.17.1,!=0.17.2,>=0.14.0 in /usr/local/lib/python3.7/dist-packages (from jsonschema>=2.6->nbformat->notebook->jupyter->featurewiz) (0.18.1)\n",
            "Requirement already satisfied: attrs>=17.4.0 in /usr/local/lib/python3.7/dist-packages (from jsonschema>=2.6->nbformat->notebook->jupyter->featurewiz) (22.1.0)\n",
            "Requirement already satisfied: zipp>=3.1.0 in /usr/local/lib/python3.7/dist-packages (from importlib-resources>=1.4.0->jsonschema>=2.6->nbformat->notebook->jupyter->featurewiz) (3.8.1)\n",
            "Requirement already satisfied: webencodings in /usr/local/lib/python3.7/dist-packages (from bleach->nbconvert->jupyter->featurewiz) (0.5.1)\n",
            "Requirement already satisfied: qtpy>=2.0.1 in /usr/local/lib/python3.7/dist-packages (from qtconsole->jupyter->featurewiz) (2.2.0)\n"
          ]
        }
      ],
      "source": [
        "pip install featurewiz\n"
      ]
    },
    {
      "cell_type": "code",
      "execution_count": 335,
      "metadata": {
        "id": "DJlTOEzMWTSF"
      },
      "outputs": [],
      "source": [
        "import numpy as np\n",
        "import pandas as pd\n",
        "\n",
        "import matplotlib.pyplot as plt\n",
        "\n",
        "from sklearn.model_selection import train_test_split\n",
        "from sklearn import svm\n",
        "\n",
        "from sklearn.metrics import accuracy_score\n",
        "from sklearn.preprocessing import LabelEncoder\n",
        "le = LabelEncoder()\n",
        "\n",
        "\n",
        "\n",
        "from sklearn.preprocessing import StandardScaler\n",
        "\n",
        "\n",
        "\n",
        "from featurewiz import featurewiz\n",
        "from sklearn.preprocessing import StandardScaler \n",
        "from sklearn.ensemble import RandomForestClassifier \n",
        "from sklearn.linear_model import LogisticRegression \n",
        "from sklearn.metrics import accuracy_score \n",
        "from sklearn.linear_model  import LinearRegression\n",
        "\n",
        "from sklearn.metrics import confusion_matrix\n",
        "\n",
        "from sklearn.metrics import ConfusionMatrixDisplay\n",
        "from sklearn.metrics import accuracy_score , recall_score, precision_score, f1_score\n",
        "\n",
        "from sklearn import metrics\n",
        "\n",
        "\n",
        "import pandas as pd\n",
        "import matplotlib.pyplot as plt\n",
        "import numpy as np\n",
        "from sklearn.model_selection import train_test_split\n",
        "import os\n",
        "import xgboost\n",
        "from sklearn.ensemble import AdaBoostClassifier\n",
        "\n",
        "%matplotlib inline\n",
        "\n",
        "\n",
        "\n"
      ]
    },
    {
      "cell_type": "code",
      "execution_count": 336,
      "metadata": {
        "colab": {
          "base_uri": "https://localhost:8080/"
        },
        "id": "mdM3yxOkWuK-",
        "outputId": "6bdb6a54-d3e0-4bc3-89ef-c2afc40b0046"
      },
      "outputs": [
        {
          "output_type": "stream",
          "name": "stdout",
          "text": [
            "Drive already mounted at /content/drive; to attempt to forcibly remount, call drive.mount(\"/content/drive\", force_remount=True).\n"
          ]
        }
      ],
      "source": [
        "from google.colab import drive\n",
        "drive.mount(\"/content/drive\")"
      ]
    },
    {
      "cell_type": "code",
      "execution_count": 337,
      "metadata": {
        "id": "yGrk_DpJWw0i"
      },
      "outputs": [],
      "source": [
        "df = pd.read_csv(\"/content/drive/MyDrive/Colab Notebooks/pre1.csv\") "
      ]
    },
    {
      "cell_type": "code",
      "execution_count": 338,
      "metadata": {
        "colab": {
          "base_uri": "https://localhost:8080/",
          "height": 206
        },
        "id": "xe3vWD5iaZ3e",
        "outputId": "b63b5fa0-176a-46d4-b48d-5a696521322e"
      },
      "outputs": [
        {
          "output_type": "execute_result",
          "data": {
            "text/plain": [
              "   Age  SystolicBP  DiastolicBP    BS  BodyTemp  HeartRate  Level\n",
              "0   25         130           80  15.0      98.0         86  high \n",
              "1   35         140           90  13.0      98.0         70  high \n",
              "2   29          90           70   8.0     100.0         80  high \n",
              "3   30         140           85   7.0      98.0         70  high \n",
              "4   35         120           60   6.1      98.0         76   low "
            ],
            "text/html": [
              "\n",
              "  <div id=\"df-0cf666a8-f5da-4a04-aa1e-8767bbf3c955\">\n",
              "    <div class=\"colab-df-container\">\n",
              "      <div>\n",
              "<style scoped>\n",
              "    .dataframe tbody tr th:only-of-type {\n",
              "        vertical-align: middle;\n",
              "    }\n",
              "\n",
              "    .dataframe tbody tr th {\n",
              "        vertical-align: top;\n",
              "    }\n",
              "\n",
              "    .dataframe thead th {\n",
              "        text-align: right;\n",
              "    }\n",
              "</style>\n",
              "<table border=\"1\" class=\"dataframe\">\n",
              "  <thead>\n",
              "    <tr style=\"text-align: right;\">\n",
              "      <th></th>\n",
              "      <th>Age</th>\n",
              "      <th>SystolicBP</th>\n",
              "      <th>DiastolicBP</th>\n",
              "      <th>BS</th>\n",
              "      <th>BodyTemp</th>\n",
              "      <th>HeartRate</th>\n",
              "      <th>Level</th>\n",
              "    </tr>\n",
              "  </thead>\n",
              "  <tbody>\n",
              "    <tr>\n",
              "      <th>0</th>\n",
              "      <td>25</td>\n",
              "      <td>130</td>\n",
              "      <td>80</td>\n",
              "      <td>15.0</td>\n",
              "      <td>98.0</td>\n",
              "      <td>86</td>\n",
              "      <td>high</td>\n",
              "    </tr>\n",
              "    <tr>\n",
              "      <th>1</th>\n",
              "      <td>35</td>\n",
              "      <td>140</td>\n",
              "      <td>90</td>\n",
              "      <td>13.0</td>\n",
              "      <td>98.0</td>\n",
              "      <td>70</td>\n",
              "      <td>high</td>\n",
              "    </tr>\n",
              "    <tr>\n",
              "      <th>2</th>\n",
              "      <td>29</td>\n",
              "      <td>90</td>\n",
              "      <td>70</td>\n",
              "      <td>8.0</td>\n",
              "      <td>100.0</td>\n",
              "      <td>80</td>\n",
              "      <td>high</td>\n",
              "    </tr>\n",
              "    <tr>\n",
              "      <th>3</th>\n",
              "      <td>30</td>\n",
              "      <td>140</td>\n",
              "      <td>85</td>\n",
              "      <td>7.0</td>\n",
              "      <td>98.0</td>\n",
              "      <td>70</td>\n",
              "      <td>high</td>\n",
              "    </tr>\n",
              "    <tr>\n",
              "      <th>4</th>\n",
              "      <td>35</td>\n",
              "      <td>120</td>\n",
              "      <td>60</td>\n",
              "      <td>6.1</td>\n",
              "      <td>98.0</td>\n",
              "      <td>76</td>\n",
              "      <td>low</td>\n",
              "    </tr>\n",
              "  </tbody>\n",
              "</table>\n",
              "</div>\n",
              "      <button class=\"colab-df-convert\" onclick=\"convertToInteractive('df-0cf666a8-f5da-4a04-aa1e-8767bbf3c955')\"\n",
              "              title=\"Convert this dataframe to an interactive table.\"\n",
              "              style=\"display:none;\">\n",
              "        \n",
              "  <svg xmlns=\"http://www.w3.org/2000/svg\" height=\"24px\"viewBox=\"0 0 24 24\"\n",
              "       width=\"24px\">\n",
              "    <path d=\"M0 0h24v24H0V0z\" fill=\"none\"/>\n",
              "    <path d=\"M18.56 5.44l.94 2.06.94-2.06 2.06-.94-2.06-.94-.94-2.06-.94 2.06-2.06.94zm-11 1L8.5 8.5l.94-2.06 2.06-.94-2.06-.94L8.5 2.5l-.94 2.06-2.06.94zm10 10l.94 2.06.94-2.06 2.06-.94-2.06-.94-.94-2.06-.94 2.06-2.06.94z\"/><path d=\"M17.41 7.96l-1.37-1.37c-.4-.4-.92-.59-1.43-.59-.52 0-1.04.2-1.43.59L10.3 9.45l-7.72 7.72c-.78.78-.78 2.05 0 2.83L4 21.41c.39.39.9.59 1.41.59.51 0 1.02-.2 1.41-.59l7.78-7.78 2.81-2.81c.8-.78.8-2.07 0-2.86zM5.41 20L4 18.59l7.72-7.72 1.47 1.35L5.41 20z\"/>\n",
              "  </svg>\n",
              "      </button>\n",
              "      \n",
              "  <style>\n",
              "    .colab-df-container {\n",
              "      display:flex;\n",
              "      flex-wrap:wrap;\n",
              "      gap: 12px;\n",
              "    }\n",
              "\n",
              "    .colab-df-convert {\n",
              "      background-color: #E8F0FE;\n",
              "      border: none;\n",
              "      border-radius: 50%;\n",
              "      cursor: pointer;\n",
              "      display: none;\n",
              "      fill: #1967D2;\n",
              "      height: 32px;\n",
              "      padding: 0 0 0 0;\n",
              "      width: 32px;\n",
              "    }\n",
              "\n",
              "    .colab-df-convert:hover {\n",
              "      background-color: #E2EBFA;\n",
              "      box-shadow: 0px 1px 2px rgba(60, 64, 67, 0.3), 0px 1px 3px 1px rgba(60, 64, 67, 0.15);\n",
              "      fill: #174EA6;\n",
              "    }\n",
              "\n",
              "    [theme=dark] .colab-df-convert {\n",
              "      background-color: #3B4455;\n",
              "      fill: #D2E3FC;\n",
              "    }\n",
              "\n",
              "    [theme=dark] .colab-df-convert:hover {\n",
              "      background-color: #434B5C;\n",
              "      box-shadow: 0px 1px 3px 1px rgba(0, 0, 0, 0.15);\n",
              "      filter: drop-shadow(0px 1px 2px rgba(0, 0, 0, 0.3));\n",
              "      fill: #FFFFFF;\n",
              "    }\n",
              "  </style>\n",
              "\n",
              "      <script>\n",
              "        const buttonEl =\n",
              "          document.querySelector('#df-0cf666a8-f5da-4a04-aa1e-8767bbf3c955 button.colab-df-convert');\n",
              "        buttonEl.style.display =\n",
              "          google.colab.kernel.accessAllowed ? 'block' : 'none';\n",
              "\n",
              "        async function convertToInteractive(key) {\n",
              "          const element = document.querySelector('#df-0cf666a8-f5da-4a04-aa1e-8767bbf3c955');\n",
              "          const dataTable =\n",
              "            await google.colab.kernel.invokeFunction('convertToInteractive',\n",
              "                                                     [key], {});\n",
              "          if (!dataTable) return;\n",
              "\n",
              "          const docLinkHtml = 'Like what you see? Visit the ' +\n",
              "            '<a target=\"_blank\" href=https://colab.research.google.com/notebooks/data_table.ipynb>data table notebook</a>'\n",
              "            + ' to learn more about interactive tables.';\n",
              "          element.innerHTML = '';\n",
              "          dataTable['output_type'] = 'display_data';\n",
              "          await google.colab.output.renderOutput(dataTable, element);\n",
              "          const docLink = document.createElement('div');\n",
              "          docLink.innerHTML = docLinkHtml;\n",
              "          element.appendChild(docLink);\n",
              "        }\n",
              "      </script>\n",
              "    </div>\n",
              "  </div>\n",
              "  "
            ]
          },
          "metadata": {},
          "execution_count": 338
        }
      ],
      "source": [
        "df.head()"
      ]
    },
    {
      "cell_type": "code",
      "execution_count": 339,
      "metadata": {
        "colab": {
          "base_uri": "https://localhost:8080/"
        },
        "id": "6UzRHPtiaelP",
        "outputId": "85129d4a-1c67-45f9-d5dd-687f80d8206b"
      },
      "outputs": [
        {
          "output_type": "execute_result",
          "data": {
            "text/plain": [
              "low      406\n",
              "mid      336\n",
              "high     272\n",
              "Name: Level, dtype: int64"
            ]
          },
          "metadata": {},
          "execution_count": 339
        }
      ],
      "source": [
        "df['Level'].value_counts()\n"
      ]
    },
    {
      "cell_type": "code",
      "execution_count": 340,
      "metadata": {
        "id": "N7IBCjTScMnb"
      },
      "outputs": [],
      "source": [
        "from sklearn.preprocessing import LabelEncoder\n",
        "le = LabelEncoder()"
      ]
    },
    {
      "cell_type": "code",
      "execution_count": 341,
      "metadata": {
        "id": "qC3YsyYNcOrW"
      },
      "outputs": [],
      "source": [
        "df.Level= le.fit_transform(df.Level.values)\n"
      ]
    },
    {
      "cell_type": "code",
      "execution_count": 342,
      "metadata": {
        "colab": {
          "base_uri": "https://localhost:8080/"
        },
        "id": "BESWUaFicWIN",
        "outputId": "ffd62bd1-caa4-4234-a3b7-6815ebc0439f"
      },
      "outputs": [
        {
          "output_type": "execute_result",
          "data": {
            "text/plain": [
              "array([0, 1, 2])"
            ]
          },
          "metadata": {},
          "execution_count": 342
        }
      ],
      "source": [
        "df['Level'].unique()"
      ]
    },
    {
      "cell_type": "code",
      "execution_count": 343,
      "metadata": {
        "colab": {
          "base_uri": "https://localhost:8080/",
          "height": 300
        },
        "id": "ocRVR7xGce3e",
        "outputId": "b198e954-9d0c-413b-b4d4-451491265051"
      },
      "outputs": [
        {
          "output_type": "execute_result",
          "data": {
            "text/plain": [
              "               Age   SystolicBP  DiastolicBP           BS     BodyTemp  \\\n",
              "count  1014.000000  1014.000000  1014.000000  1014.000000  1014.000000   \n",
              "mean     29.871795   113.198225    76.460552     8.725986    98.665089   \n",
              "std      13.474386    18.403913    13.885796     3.293532     1.371384   \n",
              "min      10.000000    70.000000    49.000000     6.000000    98.000000   \n",
              "25%      19.000000   100.000000    65.000000     6.900000    98.000000   \n",
              "50%      26.000000   120.000000    80.000000     7.500000    98.000000   \n",
              "75%      39.000000   120.000000    90.000000     8.000000    98.000000   \n",
              "max      70.000000   160.000000   100.000000    19.000000   103.000000   \n",
              "\n",
              "         HeartRate        Level  \n",
              "count  1014.000000  1014.000000  \n",
              "mean     74.301775     1.063116  \n",
              "std       8.088702     0.772146  \n",
              "min       7.000000     0.000000  \n",
              "25%      70.000000     0.000000  \n",
              "50%      76.000000     1.000000  \n",
              "75%      80.000000     2.000000  \n",
              "max      90.000000     2.000000  "
            ],
            "text/html": [
              "\n",
              "  <div id=\"df-af251bb3-97da-4fac-877a-19c555611e7a\">\n",
              "    <div class=\"colab-df-container\">\n",
              "      <div>\n",
              "<style scoped>\n",
              "    .dataframe tbody tr th:only-of-type {\n",
              "        vertical-align: middle;\n",
              "    }\n",
              "\n",
              "    .dataframe tbody tr th {\n",
              "        vertical-align: top;\n",
              "    }\n",
              "\n",
              "    .dataframe thead th {\n",
              "        text-align: right;\n",
              "    }\n",
              "</style>\n",
              "<table border=\"1\" class=\"dataframe\">\n",
              "  <thead>\n",
              "    <tr style=\"text-align: right;\">\n",
              "      <th></th>\n",
              "      <th>Age</th>\n",
              "      <th>SystolicBP</th>\n",
              "      <th>DiastolicBP</th>\n",
              "      <th>BS</th>\n",
              "      <th>BodyTemp</th>\n",
              "      <th>HeartRate</th>\n",
              "      <th>Level</th>\n",
              "    </tr>\n",
              "  </thead>\n",
              "  <tbody>\n",
              "    <tr>\n",
              "      <th>count</th>\n",
              "      <td>1014.000000</td>\n",
              "      <td>1014.000000</td>\n",
              "      <td>1014.000000</td>\n",
              "      <td>1014.000000</td>\n",
              "      <td>1014.000000</td>\n",
              "      <td>1014.000000</td>\n",
              "      <td>1014.000000</td>\n",
              "    </tr>\n",
              "    <tr>\n",
              "      <th>mean</th>\n",
              "      <td>29.871795</td>\n",
              "      <td>113.198225</td>\n",
              "      <td>76.460552</td>\n",
              "      <td>8.725986</td>\n",
              "      <td>98.665089</td>\n",
              "      <td>74.301775</td>\n",
              "      <td>1.063116</td>\n",
              "    </tr>\n",
              "    <tr>\n",
              "      <th>std</th>\n",
              "      <td>13.474386</td>\n",
              "      <td>18.403913</td>\n",
              "      <td>13.885796</td>\n",
              "      <td>3.293532</td>\n",
              "      <td>1.371384</td>\n",
              "      <td>8.088702</td>\n",
              "      <td>0.772146</td>\n",
              "    </tr>\n",
              "    <tr>\n",
              "      <th>min</th>\n",
              "      <td>10.000000</td>\n",
              "      <td>70.000000</td>\n",
              "      <td>49.000000</td>\n",
              "      <td>6.000000</td>\n",
              "      <td>98.000000</td>\n",
              "      <td>7.000000</td>\n",
              "      <td>0.000000</td>\n",
              "    </tr>\n",
              "    <tr>\n",
              "      <th>25%</th>\n",
              "      <td>19.000000</td>\n",
              "      <td>100.000000</td>\n",
              "      <td>65.000000</td>\n",
              "      <td>6.900000</td>\n",
              "      <td>98.000000</td>\n",
              "      <td>70.000000</td>\n",
              "      <td>0.000000</td>\n",
              "    </tr>\n",
              "    <tr>\n",
              "      <th>50%</th>\n",
              "      <td>26.000000</td>\n",
              "      <td>120.000000</td>\n",
              "      <td>80.000000</td>\n",
              "      <td>7.500000</td>\n",
              "      <td>98.000000</td>\n",
              "      <td>76.000000</td>\n",
              "      <td>1.000000</td>\n",
              "    </tr>\n",
              "    <tr>\n",
              "      <th>75%</th>\n",
              "      <td>39.000000</td>\n",
              "      <td>120.000000</td>\n",
              "      <td>90.000000</td>\n",
              "      <td>8.000000</td>\n",
              "      <td>98.000000</td>\n",
              "      <td>80.000000</td>\n",
              "      <td>2.000000</td>\n",
              "    </tr>\n",
              "    <tr>\n",
              "      <th>max</th>\n",
              "      <td>70.000000</td>\n",
              "      <td>160.000000</td>\n",
              "      <td>100.000000</td>\n",
              "      <td>19.000000</td>\n",
              "      <td>103.000000</td>\n",
              "      <td>90.000000</td>\n",
              "      <td>2.000000</td>\n",
              "    </tr>\n",
              "  </tbody>\n",
              "</table>\n",
              "</div>\n",
              "      <button class=\"colab-df-convert\" onclick=\"convertToInteractive('df-af251bb3-97da-4fac-877a-19c555611e7a')\"\n",
              "              title=\"Convert this dataframe to an interactive table.\"\n",
              "              style=\"display:none;\">\n",
              "        \n",
              "  <svg xmlns=\"http://www.w3.org/2000/svg\" height=\"24px\"viewBox=\"0 0 24 24\"\n",
              "       width=\"24px\">\n",
              "    <path d=\"M0 0h24v24H0V0z\" fill=\"none\"/>\n",
              "    <path d=\"M18.56 5.44l.94 2.06.94-2.06 2.06-.94-2.06-.94-.94-2.06-.94 2.06-2.06.94zm-11 1L8.5 8.5l.94-2.06 2.06-.94-2.06-.94L8.5 2.5l-.94 2.06-2.06.94zm10 10l.94 2.06.94-2.06 2.06-.94-2.06-.94-.94-2.06-.94 2.06-2.06.94z\"/><path d=\"M17.41 7.96l-1.37-1.37c-.4-.4-.92-.59-1.43-.59-.52 0-1.04.2-1.43.59L10.3 9.45l-7.72 7.72c-.78.78-.78 2.05 0 2.83L4 21.41c.39.39.9.59 1.41.59.51 0 1.02-.2 1.41-.59l7.78-7.78 2.81-2.81c.8-.78.8-2.07 0-2.86zM5.41 20L4 18.59l7.72-7.72 1.47 1.35L5.41 20z\"/>\n",
              "  </svg>\n",
              "      </button>\n",
              "      \n",
              "  <style>\n",
              "    .colab-df-container {\n",
              "      display:flex;\n",
              "      flex-wrap:wrap;\n",
              "      gap: 12px;\n",
              "    }\n",
              "\n",
              "    .colab-df-convert {\n",
              "      background-color: #E8F0FE;\n",
              "      border: none;\n",
              "      border-radius: 50%;\n",
              "      cursor: pointer;\n",
              "      display: none;\n",
              "      fill: #1967D2;\n",
              "      height: 32px;\n",
              "      padding: 0 0 0 0;\n",
              "      width: 32px;\n",
              "    }\n",
              "\n",
              "    .colab-df-convert:hover {\n",
              "      background-color: #E2EBFA;\n",
              "      box-shadow: 0px 1px 2px rgba(60, 64, 67, 0.3), 0px 1px 3px 1px rgba(60, 64, 67, 0.15);\n",
              "      fill: #174EA6;\n",
              "    }\n",
              "\n",
              "    [theme=dark] .colab-df-convert {\n",
              "      background-color: #3B4455;\n",
              "      fill: #D2E3FC;\n",
              "    }\n",
              "\n",
              "    [theme=dark] .colab-df-convert:hover {\n",
              "      background-color: #434B5C;\n",
              "      box-shadow: 0px 1px 3px 1px rgba(0, 0, 0, 0.15);\n",
              "      filter: drop-shadow(0px 1px 2px rgba(0, 0, 0, 0.3));\n",
              "      fill: #FFFFFF;\n",
              "    }\n",
              "  </style>\n",
              "\n",
              "      <script>\n",
              "        const buttonEl =\n",
              "          document.querySelector('#df-af251bb3-97da-4fac-877a-19c555611e7a button.colab-df-convert');\n",
              "        buttonEl.style.display =\n",
              "          google.colab.kernel.accessAllowed ? 'block' : 'none';\n",
              "\n",
              "        async function convertToInteractive(key) {\n",
              "          const element = document.querySelector('#df-af251bb3-97da-4fac-877a-19c555611e7a');\n",
              "          const dataTable =\n",
              "            await google.colab.kernel.invokeFunction('convertToInteractive',\n",
              "                                                     [key], {});\n",
              "          if (!dataTable) return;\n",
              "\n",
              "          const docLinkHtml = 'Like what you see? Visit the ' +\n",
              "            '<a target=\"_blank\" href=https://colab.research.google.com/notebooks/data_table.ipynb>data table notebook</a>'\n",
              "            + ' to learn more about interactive tables.';\n",
              "          element.innerHTML = '';\n",
              "          dataTable['output_type'] = 'display_data';\n",
              "          await google.colab.output.renderOutput(dataTable, element);\n",
              "          const docLink = document.createElement('div');\n",
              "          docLink.innerHTML = docLinkHtml;\n",
              "          element.appendChild(docLink);\n",
              "        }\n",
              "      </script>\n",
              "    </div>\n",
              "  </div>\n",
              "  "
            ]
          },
          "metadata": {},
          "execution_count": 343
        }
      ],
      "source": [
        "df.describe()\n"
      ]
    },
    {
      "cell_type": "code",
      "execution_count": 344,
      "metadata": {
        "colab": {
          "base_uri": "https://localhost:8080/",
          "height": 175
        },
        "id": "TedD1nUhcj72",
        "outputId": "83b6c20e-bdca-4fde-a6b4-ea49dbe9f3c2"
      },
      "outputs": [
        {
          "output_type": "execute_result",
          "data": {
            "text/plain": [
              "             Age  SystolicBP  DiastolicBP         BS   BodyTemp  HeartRate\n",
              "Level                                                                     \n",
              "0      36.216912  124.194853    85.073529  12.122610  98.899265  76.742647\n",
              "1      26.869458  105.866995    72.534483   7.220271  98.368966  72.770936\n",
              "2      28.363095  113.154762    74.232143   7.795744  98.833333  74.175595"
            ],
            "text/html": [
              "\n",
              "  <div id=\"df-fbd3548b-8918-468e-aff4-589b39e02bb3\">\n",
              "    <div class=\"colab-df-container\">\n",
              "      <div>\n",
              "<style scoped>\n",
              "    .dataframe tbody tr th:only-of-type {\n",
              "        vertical-align: middle;\n",
              "    }\n",
              "\n",
              "    .dataframe tbody tr th {\n",
              "        vertical-align: top;\n",
              "    }\n",
              "\n",
              "    .dataframe thead th {\n",
              "        text-align: right;\n",
              "    }\n",
              "</style>\n",
              "<table border=\"1\" class=\"dataframe\">\n",
              "  <thead>\n",
              "    <tr style=\"text-align: right;\">\n",
              "      <th></th>\n",
              "      <th>Age</th>\n",
              "      <th>SystolicBP</th>\n",
              "      <th>DiastolicBP</th>\n",
              "      <th>BS</th>\n",
              "      <th>BodyTemp</th>\n",
              "      <th>HeartRate</th>\n",
              "    </tr>\n",
              "    <tr>\n",
              "      <th>Level</th>\n",
              "      <th></th>\n",
              "      <th></th>\n",
              "      <th></th>\n",
              "      <th></th>\n",
              "      <th></th>\n",
              "      <th></th>\n",
              "    </tr>\n",
              "  </thead>\n",
              "  <tbody>\n",
              "    <tr>\n",
              "      <th>0</th>\n",
              "      <td>36.216912</td>\n",
              "      <td>124.194853</td>\n",
              "      <td>85.073529</td>\n",
              "      <td>12.122610</td>\n",
              "      <td>98.899265</td>\n",
              "      <td>76.742647</td>\n",
              "    </tr>\n",
              "    <tr>\n",
              "      <th>1</th>\n",
              "      <td>26.869458</td>\n",
              "      <td>105.866995</td>\n",
              "      <td>72.534483</td>\n",
              "      <td>7.220271</td>\n",
              "      <td>98.368966</td>\n",
              "      <td>72.770936</td>\n",
              "    </tr>\n",
              "    <tr>\n",
              "      <th>2</th>\n",
              "      <td>28.363095</td>\n",
              "      <td>113.154762</td>\n",
              "      <td>74.232143</td>\n",
              "      <td>7.795744</td>\n",
              "      <td>98.833333</td>\n",
              "      <td>74.175595</td>\n",
              "    </tr>\n",
              "  </tbody>\n",
              "</table>\n",
              "</div>\n",
              "      <button class=\"colab-df-convert\" onclick=\"convertToInteractive('df-fbd3548b-8918-468e-aff4-589b39e02bb3')\"\n",
              "              title=\"Convert this dataframe to an interactive table.\"\n",
              "              style=\"display:none;\">\n",
              "        \n",
              "  <svg xmlns=\"http://www.w3.org/2000/svg\" height=\"24px\"viewBox=\"0 0 24 24\"\n",
              "       width=\"24px\">\n",
              "    <path d=\"M0 0h24v24H0V0z\" fill=\"none\"/>\n",
              "    <path d=\"M18.56 5.44l.94 2.06.94-2.06 2.06-.94-2.06-.94-.94-2.06-.94 2.06-2.06.94zm-11 1L8.5 8.5l.94-2.06 2.06-.94-2.06-.94L8.5 2.5l-.94 2.06-2.06.94zm10 10l.94 2.06.94-2.06 2.06-.94-2.06-.94-.94-2.06-.94 2.06-2.06.94z\"/><path d=\"M17.41 7.96l-1.37-1.37c-.4-.4-.92-.59-1.43-.59-.52 0-1.04.2-1.43.59L10.3 9.45l-7.72 7.72c-.78.78-.78 2.05 0 2.83L4 21.41c.39.39.9.59 1.41.59.51 0 1.02-.2 1.41-.59l7.78-7.78 2.81-2.81c.8-.78.8-2.07 0-2.86zM5.41 20L4 18.59l7.72-7.72 1.47 1.35L5.41 20z\"/>\n",
              "  </svg>\n",
              "      </button>\n",
              "      \n",
              "  <style>\n",
              "    .colab-df-container {\n",
              "      display:flex;\n",
              "      flex-wrap:wrap;\n",
              "      gap: 12px;\n",
              "    }\n",
              "\n",
              "    .colab-df-convert {\n",
              "      background-color: #E8F0FE;\n",
              "      border: none;\n",
              "      border-radius: 50%;\n",
              "      cursor: pointer;\n",
              "      display: none;\n",
              "      fill: #1967D2;\n",
              "      height: 32px;\n",
              "      padding: 0 0 0 0;\n",
              "      width: 32px;\n",
              "    }\n",
              "\n",
              "    .colab-df-convert:hover {\n",
              "      background-color: #E2EBFA;\n",
              "      box-shadow: 0px 1px 2px rgba(60, 64, 67, 0.3), 0px 1px 3px 1px rgba(60, 64, 67, 0.15);\n",
              "      fill: #174EA6;\n",
              "    }\n",
              "\n",
              "    [theme=dark] .colab-df-convert {\n",
              "      background-color: #3B4455;\n",
              "      fill: #D2E3FC;\n",
              "    }\n",
              "\n",
              "    [theme=dark] .colab-df-convert:hover {\n",
              "      background-color: #434B5C;\n",
              "      box-shadow: 0px 1px 3px 1px rgba(0, 0, 0, 0.15);\n",
              "      filter: drop-shadow(0px 1px 2px rgba(0, 0, 0, 0.3));\n",
              "      fill: #FFFFFF;\n",
              "    }\n",
              "  </style>\n",
              "\n",
              "      <script>\n",
              "        const buttonEl =\n",
              "          document.querySelector('#df-fbd3548b-8918-468e-aff4-589b39e02bb3 button.colab-df-convert');\n",
              "        buttonEl.style.display =\n",
              "          google.colab.kernel.accessAllowed ? 'block' : 'none';\n",
              "\n",
              "        async function convertToInteractive(key) {\n",
              "          const element = document.querySelector('#df-fbd3548b-8918-468e-aff4-589b39e02bb3');\n",
              "          const dataTable =\n",
              "            await google.colab.kernel.invokeFunction('convertToInteractive',\n",
              "                                                     [key], {});\n",
              "          if (!dataTable) return;\n",
              "\n",
              "          const docLinkHtml = 'Like what you see? Visit the ' +\n",
              "            '<a target=\"_blank\" href=https://colab.research.google.com/notebooks/data_table.ipynb>data table notebook</a>'\n",
              "            + ' to learn more about interactive tables.';\n",
              "          element.innerHTML = '';\n",
              "          dataTable['output_type'] = 'display_data';\n",
              "          await google.colab.output.renderOutput(dataTable, element);\n",
              "          const docLink = document.createElement('div');\n",
              "          docLink.innerHTML = docLinkHtml;\n",
              "          element.appendChild(docLink);\n",
              "        }\n",
              "      </script>\n",
              "    </div>\n",
              "  </div>\n",
              "  "
            ]
          },
          "metadata": {},
          "execution_count": 344
        }
      ],
      "source": [
        "df.groupby('Level').mean()"
      ]
    },
    {
      "cell_type": "code",
      "execution_count": 345,
      "metadata": {
        "id": "Sl67jUGNd0Bn"
      },
      "outputs": [],
      "source": [
        "# separating the data and labels\n",
        "X = df.drop(columns = 'Level', axis=1)\n",
        "y = df['Level']"
      ]
    },
    {
      "cell_type": "code",
      "execution_count": 346,
      "metadata": {
        "colab": {
          "base_uri": "https://localhost:8080/"
        },
        "id": "IPFDkrWneRm3",
        "outputId": "7a7fb688-63b6-4824-b38d-bf90756950c0"
      },
      "outputs": [
        {
          "output_type": "stream",
          "name": "stdout",
          "text": [
            "      Age  SystolicBP  DiastolicBP    BS  BodyTemp  HeartRate\n",
            "0      25         130           80  15.0      98.0         86\n",
            "1      35         140           90  13.0      98.0         70\n",
            "2      29          90           70   8.0     100.0         80\n",
            "3      30         140           85   7.0      98.0         70\n",
            "4      35         120           60   6.1      98.0         76\n",
            "...   ...         ...          ...   ...       ...        ...\n",
            "1009   22         120           60  15.0      98.0         80\n",
            "1010   55         120           90  18.0      98.0         60\n",
            "1011   35          85           60  19.0      98.0         86\n",
            "1012   43         120           90  18.0      98.0         70\n",
            "1013   32         120           65   6.0     101.0         76\n",
            "\n",
            "[1014 rows x 6 columns]\n"
          ]
        }
      ],
      "source": [
        "print(X)"
      ]
    },
    {
      "cell_type": "code",
      "execution_count": 347,
      "metadata": {
        "colab": {
          "base_uri": "https://localhost:8080/"
        },
        "id": "B23XbDzTeT_W",
        "outputId": "c8b32809-8d0c-49e0-e931-5bdc50d5eb5e"
      },
      "outputs": [
        {
          "output_type": "stream",
          "name": "stdout",
          "text": [
            "0       0\n",
            "1       0\n",
            "2       0\n",
            "3       0\n",
            "4       1\n",
            "       ..\n",
            "1009    0\n",
            "1010    0\n",
            "1011    0\n",
            "1012    0\n",
            "1013    2\n",
            "Name: Level, Length: 1014, dtype: int64\n"
          ]
        }
      ],
      "source": [
        "print(y)"
      ]
    },
    {
      "cell_type": "code",
      "execution_count": 348,
      "metadata": {
        "colab": {
          "base_uri": "https://localhost:8080/"
        },
        "id": "Eqs-O8iQmDEv",
        "outputId": "286d7030-fb98-4bbf-e3d1-dd030ddeafde"
      },
      "outputs": [
        {
          "output_type": "execute_result",
          "data": {
            "text/plain": [
              "(1014, 7)"
            ]
          },
          "metadata": {},
          "execution_count": 348
        }
      ],
      "source": [
        "df.shape"
      ]
    },
    {
      "cell_type": "markdown",
      "metadata": {
        "id": "OjMYC1kVlvzX"
      },
      "source": [
        "svm"
      ]
    },
    {
      "cell_type": "code",
      "execution_count": 349,
      "metadata": {
        "colab": {
          "base_uri": "https://localhost:8080/"
        },
        "id": "lRAW8S6glrot",
        "outputId": "25bfac13-8020-4f39-fc1f-4161c24614a2"
      },
      "outputs": [
        {
          "output_type": "execute_result",
          "data": {
            "text/plain": [
              "SVC(gamma=0.1)"
            ]
          },
          "metadata": {},
          "execution_count": 349
        }
      ],
      "source": [
        "from sklearn.svm import SVC\n",
        "\n",
        "#Create svm\n",
        "X_train, X_test, y_train, y_test = train_test_split(X,y, test_size = 0.2, stratify=y, random_state=0)\n",
        "first = SVC(kernel='rbf', gamma=.10, C=1.0)\n",
        "first.fit(X_train, y_train)"
      ]
    },
    {
      "cell_type": "code",
      "execution_count": 350,
      "metadata": {
        "colab": {
          "base_uri": "https://localhost:8080/"
        },
        "id": "0ahIH5Mirnxw",
        "outputId": "af4a63c2-da32-4b5b-c138-7b0b5b31f05a"
      },
      "outputs": [
        {
          "output_type": "stream",
          "name": "stdout",
          "text": [
            "(1014, 6) (811, 6) (203, 6)\n"
          ]
        }
      ],
      "source": [
        "print(X.shape, X_train.shape, X_test.shape)"
      ]
    },
    {
      "cell_type": "code",
      "execution_count": 351,
      "metadata": {
        "colab": {
          "base_uri": "https://localhost:8080/"
        },
        "id": "FCBfqgkdl4iA",
        "outputId": "76d365d5-0dbe-4164-9459-0a9882222b66"
      },
      "outputs": [
        {
          "output_type": "stream",
          "name": "stdout",
          "text": [
            "Train accuracy: 0.8335388409371147\n",
            "Test accuracy: 0.7635467980295566\n"
          ]
        }
      ],
      "source": [
        "print(\"Train accuracy:\",first.score(X_train,y_train))\n",
        "print(\"Test accuracy:\",first.score(X_test,y_test))"
      ]
    },
    {
      "cell_type": "code",
      "execution_count": 352,
      "metadata": {
        "colab": {
          "base_uri": "https://localhost:8080/"
        },
        "id": "gp5XOXlimRY4",
        "outputId": "b2ffc71b-aa9d-4750-d619-49ec5e961039"
      },
      "outputs": [
        {
          "output_type": "stream",
          "name": "stdout",
          "text": [
            "[1 0 1 2 1 1 1 0 2 1 0 1 2 1 0 1 0 0 2 1 1 1 2 2 1 1 1 1 0 2 2 1 1 1 2 1 2\n",
            " 1 0 1 1 1 1 2 0 1 1 1 1 1 1 2 2 2 2 1 2 2 2 1 1 0 1 1 0 2 1 2 1 2 2 1 1 1\n",
            " 1 1 2 2 1 0 2 0 1 1 1 1 1 2 0 0 0 2 1 2 2 1 2 0 1 2 2 1 1 1 1 0 0 0 0 0 1\n",
            " 0 0 1 0 1 1 1 0 1 1 0 1 1 0 1 1 1 1 0 1 2 0 1 0 1 0 1 1 1 1 0 2 0 0 2 1 0\n",
            " 0 1 1 0 2 0 1 2 1 1 0 0 2 1 1 1 0 1 0 1 1 1 2 0 2 2 1 1 1 1 1 2 1 2 0 1 1\n",
            " 1 0 0 0 2 2 0 2 1 1 0 1 2 1 1 2 1 0]\n"
          ]
        }
      ],
      "source": [
        "y_pred = first.predict(X_test)\n",
        "print(y_pred)"
      ]
    },
    {
      "cell_type": "code",
      "execution_count": 353,
      "metadata": {
        "colab": {
          "base_uri": "https://localhost:8080/"
        },
        "id": "zQpXDze0nRTo",
        "outputId": "e70addbe-9ef8-40b4-a5c8-42e0b2e68ba1"
      },
      "outputs": [
        {
          "output_type": "stream",
          "name": "stdout",
          "text": [
            "CM: [[43 10  2]\n",
            " [ 3 72  6]\n",
            " [ 5 22 40]]\n",
            "Accuracy: 76.35467980295566 %\n"
          ]
        }
      ],
      "source": [
        "cm = confusion_matrix(y_test, y_pred)\n",
        "print(f'CM:',cm)\n",
        "print(f'Accuracy:',accuracy_score(y_test, y_pred)* 100 ,'%')"
      ]
    },
    {
      "cell_type": "code",
      "execution_count": 354,
      "metadata": {
        "colab": {
          "base_uri": "https://localhost:8080/",
          "height": 279
        },
        "id": "ooMmL-UTngPC",
        "outputId": "bc02ab11-cf68-4f9d-9efc-fa9cf938b18a"
      },
      "outputs": [
        {
          "output_type": "display_data",
          "data": {
            "text/plain": [
              "<Figure size 432x288 with 2 Axes>"
            ],
            "image/png": "[encoded data removed]"
          },
          "metadata": {
            "needs_background": "light"
          }
        }
      ],
      "source": [
        "cm_display = ConfusionMatrixDisplay(cm).plot()"
      ]
    },
    {
      "cell_type": "code",
      "execution_count": 355,
      "metadata": {
        "colab": {
          "base_uri": "https://localhost:8080/"
        },
        "id": "oos-3BlGnZP5",
        "outputId": "903029a1-252e-44f2-9104-38365163e68b"
      },
      "outputs": [
        {
          "output_type": "stream",
          "name": "stdout",
          "text": [
            "              precision    recall  f1-score   support\n",
            "\n",
            "           0       0.84      0.78      0.81        55\n",
            "           1       0.69      0.89      0.78        81\n",
            "           2       0.83      0.60      0.70        67\n",
            "\n",
            "    accuracy                           0.76       203\n",
            "   macro avg       0.79      0.76      0.76       203\n",
            "weighted avg       0.78      0.76      0.76       203\n",
            "\n"
          ]
        }
      ],
      "source": [
        "print(metrics.classification_report(y_test, first.predict(X_test)))"
      ]
    },
    {
      "cell_type": "code",
      "execution_count": 356,
      "metadata": {
        "colab": {
          "base_uri": "https://localhost:8080/"
        },
        "id": "avaueciknrlM",
        "outputId": "35231004-30cd-4494-e742-ab0f9757ce0a"
      },
      "outputs": [
        {
          "output_type": "stream",
          "name": "stdout",
          "text": [
            "mse= 0.3399014778325123\n",
            "mae= 0.270935960591133\n",
            "rmse= 0.583010701301882\n"
          ]
        }
      ],
      "source": [
        "from sklearn import metrics \n",
        "#import result of mse\n",
        "print(\"mse=\",metrics.mean_squared_error(y_test, y_pred))\n",
        "\n",
        "#import result of mae\n",
        "print(\"mae=\",metrics.mean_absolute_error(y_test, y_pred))\n",
        "\n",
        "#import result of rmse\n",
        "print(\"rmse=\",np.sqrt(metrics.mean_squared_error(y_test, y_pred)))"
      ]
    },
    {
      "cell_type": "markdown",
      "source": [
        "# **svm linear**"
      ],
      "metadata": {
        "id": "gdc6gL0ks-kJ"
      }
    },
    {
      "cell_type": "code",
      "source": [
        "from sklearn.model_selection import train_test_split\n",
        "X_train, X_test, y_train, y_test = train_test_split(X, y, test_size = 0.2, random_state = 2)"
      ],
      "metadata": {
        "id": "4wsKS6kOuOsS"
      },
      "execution_count": 357,
      "outputs": []
    },
    {
      "cell_type": "code",
      "source": [
        "#svm classifier\n",
        "from sklearn import svm\n",
        "\n",
        "classifier = svm.SVC(kernel='linear')\n",
        "classifier.fit(X_train, y_train)"
      ],
      "metadata": {
        "colab": {
          "base_uri": "https://localhost:8080/"
        },
        "id": "tmecyww4s9hI",
        "outputId": "f34cbe2b-fbb2-4871-f0c7-a76757cc2aa0"
      },
      "execution_count": 358,
      "outputs": [
        {
          "output_type": "execute_result",
          "data": {
            "text/plain": [
              "SVC(kernel='linear')"
            ]
          },
          "metadata": {},
          "execution_count": 358
        }
      ]
    },
    {
      "cell_type": "code",
      "source": [
        "# accuracy score on the training data\n",
        "X_train_prediction = classifier.predict(X_train)\n",
        "training_data_accuracy = accuracy_score(X_train_prediction, y_train)\n",
        "X_test_prediction = classifier.predict(X_test)\n",
        "test_data_accuracy = accuracy_score(X_test_prediction, y_test)\n"
      ],
      "metadata": {
        "id": "4JTQBr8Rs9nS"
      },
      "execution_count": 359,
      "outputs": []
    },
    {
      "cell_type": "code",
      "source": [
        "#confusion matrix calculation\n",
        "cm = confusion_matrix(X_test_prediction, y_test)\n",
        "print(cm)"
      ],
      "metadata": {
        "colab": {
          "base_uri": "https://localhost:8080/"
        },
        "id": "awrGH7WOugLR",
        "outputId": "aa49c252-ce5d-402e-9104-d145a2cac579"
      },
      "execution_count": 360,
      "outputs": [
        {
          "output_type": "stream",
          "name": "stdout",
          "text": [
            "[[45  4 10]\n",
            " [ 5 64 27]\n",
            " [14 11 23]]\n"
          ]
        }
      ]
    },
    {
      "cell_type": "code",
      "source": [
        "cm_display = ConfusionMatrixDisplay(cm).plot()\n",
        "# all score of confusion matrix\n",
        "print(metrics.classification_report(X_test_prediction, y_test))"
      ],
      "metadata": {
        "colab": {
          "base_uri": "https://localhost:8080/",
          "height": 453
        },
        "id": "FQUgSgi4utF6",
        "outputId": "a799cc7f-c9a2-4865-9f10-abff3926871f"
      },
      "execution_count": 361,
      "outputs": [
        {
          "output_type": "stream",
          "name": "stdout",
          "text": [
            "              precision    recall  f1-score   support\n",
            "\n",
            "           0       0.70      0.76      0.73        59\n",
            "           1       0.81      0.67      0.73        96\n",
            "           2       0.38      0.48      0.43        48\n",
            "\n",
            "    accuracy                           0.65       203\n",
            "   macro avg       0.63      0.64      0.63       203\n",
            "weighted avg       0.68      0.65      0.66       203\n",
            "\n"
          ]
        },
        {
          "output_type": "display_data",
          "data": {
            "text/plain": [
              "<Figure size 432x288 with 2 Axes>"
            ],
            "image/png": "[encoded data removed]"
          },
          "metadata": {
            "needs_background": "light"
          }
        }
      ]
    },
    {
      "cell_type": "code",
      "source": [
        "#accuracy score of training data\n",
        "print('Accuracy score of the training data : ', training_data_accuracy)\n",
        "\n",
        "\n",
        "#accuracy score of test data\n",
        "print('Accuracy score of the test data : ', test_data_accuracy)\n",
        "\n",
        "\n",
        "\n",
        "#import result of recall\n",
        "recall=metrics.recall_score(X_test_prediction, y_test, average=\"macro\")\n",
        "\n",
        "#import result of precesion\n",
        "pre=metrics.precision_score(X_test_prediction, y_test, average=\"macro\")\n",
        "\n",
        "\n",
        "#import result of f1\n",
        "f1=metrics.f1_score(X_test_prediction, y_test, average=\"macro\")\n",
        "\n",
        "print('recall=',recall)\n",
        "print('precision=',pre)\n",
        "print('f1=',f1)\n"
      ],
      "metadata": {
        "colab": {
          "base_uri": "https://localhost:8080/"
        },
        "id": "3OHhdVZiuzTH",
        "outputId": "6f72b148-b195-4e15-b5d1-6ed1818407b5"
      },
      "execution_count": 362,
      "outputs": [
        {
          "output_type": "stream",
          "name": "stdout",
          "text": [
            "Accuracy score of the training data :  0.6596794081381011\n",
            "Accuracy score of the test data :  0.6502463054187192\n",
            "recall= 0.6361817325800377\n",
            "precision= 0.6321949718706047\n",
            "f1= 0.6296872714758894\n"
          ]
        }
      ]
    },
    {
      "cell_type": "code",
      "source": [
        "#import result of mse\n",
        "print(\"mse=\",metrics.mean_squared_error(y_test, y_pred))\n",
        "\n",
        "#import result of mae\n",
        "print(\"mae=\",metrics.mean_absolute_error(y_test, y_pred))\n",
        "\n",
        "#import result of rmse\n",
        "print(\"rmse=\",np.sqrt(metrics.mean_squared_error(y_test, y_pred)))"
      ],
      "metadata": {
        "colab": {
          "base_uri": "https://localhost:8080/"
        },
        "id": "MyNMUWfLu774",
        "outputId": "e347fc05-a3f4-4afa-8624-2fb1f3e8f661"
      },
      "execution_count": 363,
      "outputs": [
        {
          "output_type": "stream",
          "name": "stdout",
          "text": [
            "mse= 1.2266009852216748\n",
            "mae= 0.8719211822660099\n",
            "rmse= 1.1075201963041914\n"
          ]
        }
      ]
    },
    {
      "cell_type": "markdown",
      "source": [
        "# **XGBOOST**\n"
      ],
      "metadata": {
        "id": "Us37Mv_pvd9J"
      }
    },
    {
      "cell_type": "code",
      "source": [
        "from sklearn.metrics import confusion_matrix\n",
        "from sklearn.metrics import ConfusionMatrixDisplay\n",
        "from sklearn import metrics\n",
        "from sklearn.metrics import ConfusionMatrixDisplay\n",
        "from sklearn.metrics import accuracy_score , recall_score, precision_score, f1_score\n",
        "from xgboost import XGBClassifier\n"
      ],
      "metadata": {
        "id": "OQN6izeXvSQp"
      },
      "execution_count": 364,
      "outputs": []
    },
    {
      "cell_type": "code",
      "source": [
        "model = XGBClassifier(use_label_encoder=False, eval_metric='mlogloss')\n"
      ],
      "metadata": {
        "id": "Ux5T0rOsvlUB"
      },
      "execution_count": 365,
      "outputs": []
    },
    {
      "cell_type": "code",
      "source": [
        "X_train, X_test, y_train, y_test = train_test_split(X, y, random_state=0, train_size = .80)"
      ],
      "metadata": {
        "id": "cocrrA8VvlW7"
      },
      "execution_count": 366,
      "outputs": []
    },
    {
      "cell_type": "code",
      "source": [
        "model.fit(X_train, y_train)\n"
      ],
      "metadata": {
        "colab": {
          "base_uri": "https://localhost:8080/"
        },
        "id": "gSFFTwivvlaM",
        "outputId": "7333d6f0-d421-4f4a-b60a-47715fff55f0"
      },
      "execution_count": 367,
      "outputs": [
        {
          "output_type": "execute_result",
          "data": {
            "text/plain": [
              "XGBClassifier(base_score=0.5, booster='gbtree', callbacks=None,\n",
              "              colsample_bylevel=1, colsample_bynode=1, colsample_bytree=1,\n",
              "              early_stopping_rounds=None, enable_categorical=False,\n",
              "              eval_metric='mlogloss', gamma=0, gpu_id=-1,\n",
              "              grow_policy='depthwise', importance_type=None,\n",
              "              interaction_constraints='', learning_rate=0.300000012,\n",
              "              max_bin=256, max_cat_to_onehot=4, max_delta_step=0, max_depth=6,\n",
              "              max_leaves=0, min_child_weight=1, missing=nan,\n",
              "              monotone_constraints='()', n_estimators=100, n_jobs=0,\n",
              "              num_parallel_tree=1, objective='multi:softprob', predictor='auto',\n",
              "              random_state=0, reg_alpha=0, ...)"
            ]
          },
          "metadata": {},
          "execution_count": 367
        }
      ]
    },
    {
      "cell_type": "code",
      "source": [
        "y_pred = model.predict(X_test)\n"
      ],
      "metadata": {
        "id": "JbsfzyG9vleD"
      },
      "execution_count": 368,
      "outputs": []
    },
    {
      "cell_type": "code",
      "source": [
        "cm = confusion_matrix(y_pred, y_test)\n",
        "print(cm)"
      ],
      "metadata": {
        "colab": {
          "base_uri": "https://localhost:8080/"
        },
        "id": "LEkQrZr3vlhu",
        "outputId": "2545e4e8-ab81-4f5b-95b0-8433b1e066c8"
      },
      "execution_count": 369,
      "outputs": [
        {
          "output_type": "stream",
          "name": "stdout",
          "text": [
            "[[43  3  5]\n",
            " [ 1 61 12]\n",
            " [ 7 11 60]]\n"
          ]
        }
      ]
    },
    {
      "cell_type": "code",
      "source": [
        "cm_display = ConfusionMatrixDisplay(cm).plot()\n",
        "# all score of confusion matrix\n",
        "print(metrics.classification_report(y_pred, y_test))"
      ],
      "metadata": {
        "colab": {
          "base_uri": "https://localhost:8080/",
          "height": 454
        },
        "id": "f0ldMMeHv7Lz",
        "outputId": "bd499b77-fccf-48fc-ff63-67a2b3c3a8f5"
      },
      "execution_count": 370,
      "outputs": [
        {
          "output_type": "stream",
          "name": "stdout",
          "text": [
            "              precision    recall  f1-score   support\n",
            "\n",
            "           0       0.84      0.84      0.84        51\n",
            "           1       0.81      0.82      0.82        74\n",
            "           2       0.78      0.77      0.77        78\n",
            "\n",
            "    accuracy                           0.81       203\n",
            "   macro avg       0.81      0.81      0.81       203\n",
            "weighted avg       0.81      0.81      0.81       203\n",
            "\n"
          ]
        },
        {
          "output_type": "display_data",
          "data": {
            "text/plain": [
              "<Figure size 432x288 with 2 Axes>"
            ],
            "image/png": "[encoded data removed]"
          },
          "metadata": {
            "needs_background": "light"
          }
        }
      ]
    },
    {
      "cell_type": "code",
      "source": [
        "print(\"Train accuracy:\",model.score(X_train,y_train))\n",
        "print(\"Test accuracy:\",model.score(X_test,y_test))"
      ],
      "metadata": {
        "colab": {
          "base_uri": "https://localhost:8080/"
        },
        "id": "iH9ZwF23v7Os",
        "outputId": "bba60a2d-a6f8-403a-d3f3-e16ce9db7a5c"
      },
      "execution_count": 371,
      "outputs": [
        {
          "output_type": "stream",
          "name": "stdout",
          "text": [
            "Train accuracy: 0.9334155363748459\n",
            "Test accuracy: 0.8078817733990148\n"
          ]
        }
      ]
    },
    {
      "cell_type": "code",
      "source": [
        "#import result of recall\n",
        "recall=metrics.recall_score(X_test_prediction, y_test, average=\"macro\")\n",
        "\n",
        "#import result of precesion\n",
        "pre=metrics.precision_score(X_test_prediction, y_test, average=\"macro\")\n",
        "\n",
        "\n",
        "#import result of f1\n",
        "f1=metrics.f1_score(X_test_prediction, y_test, average=\"macro\")\n",
        "\n",
        "print('recall=',recall)\n",
        "print('precision=',pre)\n",
        "print('f1=',f1)"
      ],
      "metadata": {
        "colab": {
          "base_uri": "https://localhost:8080/"
        },
        "id": "VV0b1c73v7Rn",
        "outputId": "17e12b39-1c7f-49da-c76b-f912fe159671"
      },
      "execution_count": 372,
      "outputs": [
        {
          "output_type": "stream",
          "name": "stdout",
          "text": [
            "recall= 0.36252354048964214\n",
            "precision= 0.3578371954842543\n",
            "f1= 0.351057239057239\n"
          ]
        }
      ]
    },
    {
      "cell_type": "code",
      "source": [
        "#import result of mse\n",
        "print(\"mse=\",metrics.mean_squared_error(y_test, y_pred))\n",
        "\n",
        "#import result of mae\n",
        "print(\"mae=\",metrics.mean_absolute_error(y_test, y_pred))\n",
        "\n",
        "#import result of rmse\n",
        "print(\"rmse=\",np.sqrt(metrics.mean_squared_error(y_test, y_pred)))"
      ],
      "metadata": {
        "colab": {
          "base_uri": "https://localhost:8080/"
        },
        "id": "VxDs3U-7w0w6",
        "outputId": "43adffb9-c46b-494f-a169-3aa06b6414af"
      },
      "execution_count": 373,
      "outputs": [
        {
          "output_type": "stream",
          "name": "stdout",
          "text": [
            "mse= 0.3694581280788177\n",
            "mae= 0.2512315270935961\n",
            "rmse= 0.6078306738548308\n"
          ]
        }
      ]
    },
    {
      "cell_type": "markdown",
      "source": [
        "ADAboost algorithm used"
      ],
      "metadata": {
        "id": "xzhqizj7xHGr"
      }
    },
    {
      "cell_type": "code",
      "source": [
        "from sklearn.ensemble import AdaBoostClassifier\n"
      ],
      "metadata": {
        "id": "KhpedkGwxV18"
      },
      "execution_count": 374,
      "outputs": []
    },
    {
      "cell_type": "code",
      "source": [
        "X_train, X_test, y_train, y_test = train_test_split(X, y, random_state=0, train_size = .80)"
      ],
      "metadata": {
        "id": "DkGnzOY5w01X"
      },
      "execution_count": 375,
      "outputs": []
    },
    {
      "cell_type": "code",
      "source": [
        "abc = AdaBoostClassifier(n_estimators=50,\n",
        "                         learning_rate=1)"
      ],
      "metadata": {
        "id": "yefimjOCxmGy"
      },
      "execution_count": 376,
      "outputs": []
    },
    {
      "cell_type": "code",
      "source": [
        "model = abc.fit(X_train, y_train)"
      ],
      "metadata": {
        "id": "F7TQG1y1xmXx"
      },
      "execution_count": 377,
      "outputs": []
    },
    {
      "cell_type": "code",
      "source": [
        "model.score(X_train, y_train)"
      ],
      "metadata": {
        "colab": {
          "base_uri": "https://localhost:8080/"
        },
        "id": "HhwZ3QKuxr4R",
        "outputId": "0b87e741-1449-4d3a-c337-bbcffe160c20"
      },
      "execution_count": 378,
      "outputs": [
        {
          "output_type": "execute_result",
          "data": {
            "text/plain": [
              "0.6670776818742293"
            ]
          },
          "metadata": {},
          "execution_count": 378
        }
      ]
    },
    {
      "cell_type": "code",
      "source": [
        "model.score(X_test, y_test)"
      ],
      "metadata": {
        "colab": {
          "base_uri": "https://localhost:8080/"
        },
        "id": "1itxqCklxsEA",
        "outputId": "68e06c26-f505-4cf7-fcad-fae8590be75d"
      },
      "execution_count": 379,
      "outputs": [
        {
          "output_type": "execute_result",
          "data": {
            "text/plain": [
              "0.6699507389162561"
            ]
          },
          "metadata": {},
          "execution_count": 379
        }
      ]
    },
    {
      "cell_type": "code",
      "source": [
        "print(\"Train accuracy:\",model.score(X_train,y_train))\n",
        "print(\"Test accuracy:\",model.score(X_test,y_test))"
      ],
      "metadata": {
        "colab": {
          "base_uri": "https://localhost:8080/"
        },
        "id": "BYEkgKaMxxhZ",
        "outputId": "342e05ea-2cf3-4241-fbcf-a9380e146e27"
      },
      "execution_count": 380,
      "outputs": [
        {
          "output_type": "stream",
          "name": "stdout",
          "text": [
            "Train accuracy: 0.6670776818742293\n",
            "Test accuracy: 0.6699507389162561\n"
          ]
        }
      ]
    },
    {
      "cell_type": "code",
      "source": [
        "y_pred = model.predict(X_test)\n"
      ],
      "metadata": {
        "id": "Zdzif3hByL2m"
      },
      "execution_count": 381,
      "outputs": []
    },
    {
      "cell_type": "code",
      "source": [
        "cm = confusion_matrix(y_pred, y_test)\n",
        "print(cm)"
      ],
      "metadata": {
        "colab": {
          "base_uri": "https://localhost:8080/"
        },
        "id": "CoCmpnzqyL59",
        "outputId": "74db42fd-fdb2-448c-e0ef-7b438afc968c"
      },
      "execution_count": 382,
      "outputs": [
        {
          "output_type": "stream",
          "name": "stdout",
          "text": [
            "[[36  1  8]\n",
            " [ 1 61 30]\n",
            " [14 13 39]]\n"
          ]
        }
      ]
    },
    {
      "cell_type": "code",
      "source": [
        "cm_display = ConfusionMatrixDisplay(cm).plot()\n",
        "# all score of confusion matrix\n",
        "print(metrics.classification_report(y_pred, y_test))"
      ],
      "metadata": {
        "colab": {
          "base_uri": "https://localhost:8080/",
          "height": 454
        },
        "id": "tGC4JUVDyWVp",
        "outputId": "9089942d-a1db-49d2-bfdd-b51c4f7ebf22"
      },
      "execution_count": 383,
      "outputs": [
        {
          "output_type": "stream",
          "name": "stdout",
          "text": [
            "              precision    recall  f1-score   support\n",
            "\n",
            "           0       0.71      0.80      0.75        45\n",
            "           1       0.81      0.66      0.73        92\n",
            "           2       0.51      0.59      0.55        66\n",
            "\n",
            "    accuracy                           0.67       203\n",
            "   macro avg       0.68      0.68      0.68       203\n",
            "weighted avg       0.69      0.67      0.67       203\n",
            "\n"
          ]
        },
        {
          "output_type": "display_data",
          "data": {
            "text/plain": [
              "<Figure size 432x288 with 2 Axes>"
            ],
            "image/png": "[encoded data removed]"
          },
          "metadata": {
            "needs_background": "light"
          }
        }
      ]
    },
    {
      "cell_type": "code",
      "source": [
        "#import result of recall\n",
        "recall=metrics.recall_score(y_pred, y_test, average=\"macro\")\n",
        "\n",
        "#import result of precesion\n",
        "pre=metrics.precision_score(y_pred, y_test, average=\"macro\")\n",
        "\n",
        "\n",
        "#import result of f1\n",
        "f1=metrics.f1_score(y_pred, y_test, average=\"macro\")\n",
        "\n",
        "print('recall=',recall)\n",
        "print('precision=',pre)\n",
        "print('f1=',f1)"
      ],
      "metadata": {
        "colab": {
          "base_uri": "https://localhost:8080/"
        },
        "id": "k7WtHqYlyWjD",
        "outputId": "33c0a65a-2acd-4ba6-d5b2-e43aa856519a"
      },
      "execution_count": 384,
      "outputs": [
        {
          "output_type": "stream",
          "name": "stdout",
          "text": [
            "recall= 0.6846508563899868\n",
            "precision= 0.6752363975893387\n",
            "f1= 0.6753311558700781\n"
          ]
        }
      ]
    },
    {
      "cell_type": "code",
      "source": [
        "#import result of mse\n",
        "print(\"mse=\",metrics.mean_squared_error(y_test, y_pred))\n",
        "\n",
        "#import result of mae\n",
        "print(\"mae=\",metrics.mean_absolute_error(y_test, y_pred))\n",
        "\n",
        "#import result of rmse\n",
        "print(\"rmse=\",np.sqrt(metrics.mean_squared_error(y_test, y_pred)))"
      ],
      "metadata": {
        "colab": {
          "base_uri": "https://localhost:8080/"
        },
        "id": "vGf9IV-lyc3y",
        "outputId": "227d00ce-a6ab-45ef-9f5c-63fe874d3823"
      },
      "execution_count": 385,
      "outputs": [
        {
          "output_type": "stream",
          "name": "stdout",
          "text": [
            "mse= 0.6551724137931034\n",
            "mae= 0.43842364532019706\n",
            "rmse= 0.8094272134003795\n"
          ]
        }
      ]
    },
    {
      "cell_type": "markdown",
      "source": [
        "GNB\n"
      ],
      "metadata": {
        "id": "HyXTf6NB4Z2j"
      }
    },
    {
      "cell_type": "code",
      "source": [
        "from sklearn.model_selection import train_test_split\n",
        "X_train, X_test, y_train, y_test = train_test_split(X, y, test_size = 0.1, random_state = 53)"
      ],
      "metadata": {
        "id": "t3iOhsLn4l2i"
      },
      "execution_count": 386,
      "outputs": []
    },
    {
      "cell_type": "code",
      "source": [
        "from sklearn.naive_bayes import GaussianNB\n",
        "nb = GaussianNB()\n",
        "nb.fit(X_train, y_train)"
      ],
      "metadata": {
        "id": "TFvIU9in4l5q",
        "colab": {
          "base_uri": "https://localhost:8080/"
        },
        "outputId": "69d82305-7313-417a-b30d-efe9d9eb2f23"
      },
      "execution_count": 387,
      "outputs": [
        {
          "output_type": "execute_result",
          "data": {
            "text/plain": [
              "GaussianNB()"
            ]
          },
          "metadata": {},
          "execution_count": 387
        }
      ]
    },
    {
      "cell_type": "code",
      "source": [
        "nb.score(X_train, y_train)"
      ],
      "metadata": {
        "id": "fg4_ksna4l82",
        "colab": {
          "base_uri": "https://localhost:8080/"
        },
        "outputId": "f95c8d95-b778-48e0-c378-34f4787f80f6"
      },
      "execution_count": 388,
      "outputs": [
        {
          "output_type": "execute_result",
          "data": {
            "text/plain": [
              "0.6195175438596491"
            ]
          },
          "metadata": {},
          "execution_count": 388
        }
      ]
    },
    {
      "cell_type": "code",
      "source": [
        "nb.score(X_test, y_test)"
      ],
      "metadata": {
        "id": "Vo_T7ovn4mAb",
        "colab": {
          "base_uri": "https://localhost:8080/"
        },
        "outputId": "9a6d18a0-0d1d-4d60-c162-9638d7fbee77"
      },
      "execution_count": 389,
      "outputs": [
        {
          "output_type": "execute_result",
          "data": {
            "text/plain": [
              "0.5588235294117647"
            ]
          },
          "metadata": {},
          "execution_count": 389
        }
      ]
    },
    {
      "cell_type": "code",
      "source": [
        "print(\"Train accuracy:\",nb.score(X_train,y_train))\n",
        "print(\"Test accuracy:\",nb.score(X_test,y_test))"
      ],
      "metadata": {
        "colab": {
          "base_uri": "https://localhost:8080/"
        },
        "id": "Nzq4C7yP6N6s",
        "outputId": "c3cd4596-e16f-464e-d976-d03c60b63bb4"
      },
      "execution_count": 390,
      "outputs": [
        {
          "output_type": "stream",
          "name": "stdout",
          "text": [
            "Train accuracy: 0.6195175438596491\n",
            "Test accuracy: 0.5588235294117647\n"
          ]
        }
      ]
    },
    {
      "cell_type": "code",
      "source": [
        "y_pred = nb.predict(X_test)\n"
      ],
      "metadata": {
        "id": "U0TAxDCb6tU6"
      },
      "execution_count": 391,
      "outputs": []
    },
    {
      "cell_type": "code",
      "source": [
        "cm = confusion_matrix(y_pred, y_test)\n",
        "print(cm)"
      ],
      "metadata": {
        "colab": {
          "base_uri": "https://localhost:8080/"
        },
        "id": "rBGUrk1P6tYZ",
        "outputId": "faf51b92-6bb8-4c84-adad-760903cfa094"
      },
      "execution_count": 392,
      "outputs": [
        {
          "output_type": "stream",
          "name": "stdout",
          "text": [
            "[[13  0  2]\n",
            " [ 3 39 30]\n",
            " [ 7  3  5]]\n"
          ]
        }
      ]
    },
    {
      "cell_type": "code",
      "source": [
        "cm_display = ConfusionMatrixDisplay(cm).plot()\n",
        "# all score of confusion matrix\n",
        "print(metrics.classification_report(y_pred, y_test))"
      ],
      "metadata": {
        "colab": {
          "base_uri": "https://localhost:8080/",
          "height": 453
        },
        "id": "wbFmjBrQ6tcF",
        "outputId": "9e6529e6-235e-4c10-f1d4-357315fe5a4a"
      },
      "execution_count": 393,
      "outputs": [
        {
          "output_type": "stream",
          "name": "stdout",
          "text": [
            "              precision    recall  f1-score   support\n",
            "\n",
            "           0       0.57      0.87      0.68        15\n",
            "           1       0.93      0.54      0.68        72\n",
            "           2       0.14      0.33      0.19        15\n",
            "\n",
            "    accuracy                           0.56       102\n",
            "   macro avg       0.54      0.58      0.52       102\n",
            "weighted avg       0.76      0.56      0.61       102\n",
            "\n"
          ]
        },
        {
          "output_type": "display_data",
          "data": {
            "text/plain": [
              "<Figure size 432x288 with 2 Axes>"
            ],
            "image/png": "[encoded data removed]"
          },
          "metadata": {
            "needs_background": "light"
          }
        }
      ]
    },
    {
      "cell_type": "code",
      "source": [
        "#import result of recall\n",
        "recall=metrics.recall_score(y_pred, y_test, average=\"macro\")\n",
        "\n",
        "#import result of precesion\n",
        "pre=metrics.precision_score(y_pred, y_test, average=\"macro\")\n",
        "\n",
        "\n",
        "#import result of f1\n",
        "f1=metrics.f1_score(y_pred, y_test, average=\"macro\")\n",
        "\n",
        "print('recall=',recall)\n",
        "print('precision=',pre)\n",
        "print('f1=',f1)"
      ],
      "metadata": {
        "colab": {
          "base_uri": "https://localhost:8080/"
        },
        "id": "i1EXMczB6tf-",
        "outputId": "5d11e3b5-293d-4759-ec27-420270e8a667"
      },
      "execution_count": 394,
      "outputs": [
        {
          "output_type": "stream",
          "name": "stdout",
          "text": [
            "recall= 0.5805555555555555\n",
            "precision= 0.5429746516703039\n",
            "f1= 0.520242914979757\n"
          ]
        }
      ]
    },
    {
      "cell_type": "code",
      "source": [
        "#import result of mse\n",
        "print(\"mse=\",metrics.mean_squared_error(y_test, y_pred))\n",
        "\n",
        "#import result of mae\n",
        "print(\"mae=\",metrics.mean_absolute_error(y_test, y_pred))\n",
        "\n",
        "#import result of rmse\n",
        "print(\"rmse=\",np.sqrt(metrics.mean_squared_error(y_test, y_pred)))"
      ],
      "metadata": {
        "colab": {
          "base_uri": "https://localhost:8080/"
        },
        "id": "A5D4M7es7FHl",
        "outputId": "2d2c90d2-04d2-433d-a1ef-03423b1cd98a"
      },
      "execution_count": 395,
      "outputs": [
        {
          "output_type": "stream",
          "name": "stdout",
          "text": [
            "mse= 0.7058823529411765\n",
            "mae= 0.5294117647058824\n",
            "rmse= 0.8401680504168059\n"
          ]
        }
      ]
    }
  ],
  "metadata": {
    "colab": {
      "collapsed_sections": [],
      "provenance": [],
      "include_colab_link": true
    },
    "kernelspec": {
      "display_name": "Python 3",
      "name": "python3"
    },
    "language_info": {
      "name": "python"
    }
  },
  "nbformat": 4,
  "nbformat_minor": 0
}